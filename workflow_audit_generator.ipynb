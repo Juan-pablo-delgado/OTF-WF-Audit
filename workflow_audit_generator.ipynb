{
  "cells": [
    {
      "cell_type": "code",
      "execution_count": 32,
      "metadata": {
        "colab": {
          "base_uri": "https://localhost:8080/",
          "height": 38
        },
        "id": "Ez3k3BvvUiow",
        "outputId": "1faf3677-3ac4-4a32-c3f3-83a7febf71e7"
      },
      "outputs": [],
      "source": [
        "from datetime import datetime\n",
        "import pandas as pd\n",
        "import re\n",
        "import tkinter as tk\n",
        "from tkinter import filedialog"
      ]
    },
    {
      "cell_type": "code",
      "execution_count": 33,
      "metadata": {},
      "outputs": [],
      "source": [
        "root = tk.Tk()\n",
        "root.withdraw()  # Ocultar la ventana principal\n",
        "\n",
        "# Abrir el diálogo para seleccionar un archivo\n",
        "file_path = filedialog.askopenfilename(\n",
        "    title=\"Selecciona un archivo de Excel\",\n",
        "    filetypes=[(\"Archivos de Excel\", \"*.xls;*.xlsx\")]  # Filtro para archivos Excel\n",
        ")"
      ]
    },
    {
      "cell_type": "code",
      "execution_count": null,
      "metadata": {},
      "outputs": [
        {
          "name": "stdout",
          "output_type": "stream",
          "text": [
            "hubspot-listing-lib-exports-all-workflows-2025-03-04\n"
          ]
        }
      ],
      "source": [
        "# Expresión regular para extraer el nombre del archivo\n",
        "file_name = re.search(r\"[^/\\\\]+(?=\\.[a-zA-Z0-9]+$)\", file_path).group()"
      ]
    },
    {
      "cell_type": "code",
      "execution_count": null,
      "metadata": {
        "colab": {
          "base_uri": "https://localhost:8080/"
        },
        "id": "pyLCZbhbzMwI",
        "outputId": "8140d829-6d9b-4694-836c-8608ccd8ca65"
      },
      "outputs": [],
      "source": [
        "account = input(\"Enter Account number: \")\n",
        "bearer_token = input(\"Enter bearer token: \")"
      ]
    },
    {
      "cell_type": "code",
      "execution_count": 37,
      "metadata": {
        "colab": {
          "base_uri": "https://localhost:8080/"
        },
        "id": "ENr6JdSGW3kW",
        "outputId": "d6d066f5-0797-42e8-e062-719e2c9d9cd3"
      },
      "outputs": [
        {
          "name": "stderr",
          "output_type": "stream",
          "text": [
            "c:\\Users\\Admin\\AppData\\Local\\Programs\\Python\\Python313\\Lib\\site-packages\\openpyxl\\styles\\stylesheet.py:237: UserWarning: Workbook contains no default style, apply openpyxl's default\n",
            "  warn(\"Workbook contains no default style, apply openpyxl's default\")\n"
          ]
        }
      ],
      "source": [
        "df = pd.read_excel(file_path)"
      ]
    },
    {
      "cell_type": "code",
      "execution_count": 39,
      "metadata": {
        "id": "7AYVBDJJZywO"
      },
      "outputs": [],
      "source": [
        "#Agregar Workflow Name + link\n",
        "def wf_apply_link(flow_id,wf_name,account):\n",
        "    name = wf_name.replace('\"',\"'\")\n",
        "    return f'=HYPERLINK(\"https://app.hubspot.com/workflows/{account}/platform/flow/{flow_id}/edit\",\"{name}\")'\n",
        "\n",
        "#Agregar Folder + link\n",
        "def folder_apply_link(folder_id,account):\n",
        "  if folder_id != 0:\n",
        "    return f'=HYPERLINK(\"https://app.hubspot.com/workflows/{account}/folders?folderId={folder_id}\",\"{folder_id}\")'\n",
        "  else:\n",
        "    return ' '\n",
        "\n",
        "#Agregar On/Off\n",
        "def on_off(on_off):\n",
        "  return 'On' if on_off else 'Off'\n",
        "\n",
        "#Agregar index\n",
        "df.reset_index(drop=True, inplace=True)\n",
        "df.index = df.index + 1\n",
        "\n",
        "#Issues?\n",
        "def is_issue(issue):\n",
        "  return 'Yes' if issue > 0 else 'No'\n",
        "\n",
        "#Recommended Action\n",
        "def recommended_action(is_issue, on_off, enrolled_last, last_action, total_enrolled):\n",
        "  from datetime import timedelta\n",
        "  is_older_than_one_year = datetime.now() - last_action > timedelta(days=365)\n",
        "\n",
        "  if is_issue == 0 and on_off and enrolled_last > 0 and total_enrolled > 0:\n",
        "      return 'Keep'\n",
        "  elif enrolled_last > 0 or total_enrolled > 0 and on_off:\n",
        "      return 'Review & Keep'\n",
        "  elif not on_off and enrolled_last == 0 and total_enrolled == 0 and is_older_than_one_year:\n",
        "      return 'Delete'\n",
        "  else:\n",
        "      return 'Review to Delete'\n",
        "\n",
        "#Recommendations\n",
        "def recommendation(recommended_action, issues):\n",
        "    if recommended_action == 'Keep' and issues:\n",
        "        return 'Everything is functioning properly. No issues have been detected, and registration activity is stable. You may proceed with regular operations.'\n",
        "    elif recommended_action == 'Review & Keep' and issues:\n",
        "        return 'An issue has been identified, but the system remains operational, and registrations are still functioning. It is advised to review the issue to ensure it does not affect performance or user experience. In the meantime, operations can continue until it is resolved.'\n",
        "    elif recommended_action == 'Review to Delete':\n",
        "        return 'The system appears inactive, with no registrations or activity. We recommend its removal if there are no plans for reactivation, as this will help maintain a clean and efficient database.'\n",
        "    elif issues:\n",
        "        return 'The system appears inactive, with no registrations or activity. We recommend deleting it if there are no plans to reactivate it, to help maintain a clean and efficient database.'\n",
        "\n",
        "#Re-enrollment\n",
        "def re_enrollment(flow_id):\n",
        "  import requests\n",
        "\n",
        "  url = f\"https://api.hubapi.com/automation/v4/flows/{flow_id}\"\n",
        "  headers = {\n",
        "      'accept': \"application/json\",\n",
        "      'authorization': f'Bearer {bearer_token}'\n",
        "     }\n",
        "  try:\n",
        "    response = requests.request(\"GET\", url, headers=headers)\n",
        "    if response.json().get('enrollmentCriteria').get('shouldReEnroll'):\n",
        "      return 'Yes'\n",
        "    else:\n",
        "      return 'No'\n",
        "  except:\n",
        "    return ' '\n",
        "\n",
        "df['Workflow Name'] = df.apply(lambda row: wf_apply_link(row['Flow ID'],row ['Name'],account), axis=1)\n",
        "df['Folder Name'] = df.apply(lambda row: folder_apply_link(row['Folder'],account), axis=1)\n",
        "df['ON/OFF'] = df.apply(lambda row: on_off(row['On or Off']), axis=1)\n",
        "df['Issues?'] = df.apply(lambda row: is_issue(row['Current issues']), axis=1)\n",
        "df['Recommended Action'] = df.apply(lambda row: recommended_action(row['Current issues'],row['On or Off'],row['Enrolled last 7-days'],row['Last action on'],row['Enrolled total']), axis=1)\n",
        "df['Recommendation'] = df.apply(lambda row: recommendation(row['Recommended Action'],row['Issues?']), axis=1)\n",
        "df['Re-enrollment'] = df.apply(lambda row: re_enrollment(row['Flow ID']), axis=1)\n"
      ]
    },
    {
      "cell_type": "code",
      "execution_count": 40,
      "metadata": {
        "id": "wob8xSFzvk28"
      },
      "outputs": [],
      "source": [
        "# Crear las columnas del Audit\n",
        "\n",
        "desired_columns = ['Workflow Name','Folder Name','ON/OFF', 'Created in',\n",
        "                   'Object type', 'Trigger Type', 'Enrolled total',\n",
        "                   'Enrolled last 7-days','Enrolled unique', 'Last action on',\n",
        "                   'Re-enrollment','Description', 'Issues?',\n",
        "                   'Recommendation', 'Recommended Action']\n",
        "\n",
        "audit_df = df[desired_columns]"
      ]
    },
    {
      "cell_type": "code",
      "execution_count": 41,
      "metadata": {
        "colab": {
          "base_uri": "https://localhost:8080/",
          "height": 17
        },
        "id": "BOpIEUL4rEwh",
        "outputId": "fbdbf804-dda2-4e52-fa31-dff6cbf384f6"
      },
      "outputs": [],
      "source": [
        "audit_df.to_excel('Template HubSpot Audit.xlsx')"
      ]
    }
  ],
  "metadata": {
    "colab": {
      "provenance": []
    },
    "kernelspec": {
      "display_name": "Python 3",
      "name": "python3"
    },
    "language_info": {
      "codemirror_mode": {
        "name": "ipython",
        "version": 3
      },
      "file_extension": ".py",
      "mimetype": "text/x-python",
      "name": "python",
      "nbconvert_exporter": "python",
      "pygments_lexer": "ipython3",
      "version": "3.13.2"
    }
  },
  "nbformat": 4,
  "nbformat_minor": 0
}
